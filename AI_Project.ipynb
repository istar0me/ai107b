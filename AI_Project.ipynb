{
  "nbformat": 4,
  "nbformat_minor": 0,
  "metadata": {
    "colab": {
      "name": "AI Project",
      "version": "0.3.2",
      "provenance": [],
      "collapsed_sections": [],
      "include_colab_link": true
    },
    "kernelspec": {
      "name": "python3",
      "display_name": "Python 3"
    },
    "accelerator": "GPU"
  },
  "cells": [
    {
      "cell_type": "markdown",
      "metadata": {
        "id": "view-in-github",
        "colab_type": "text"
      },
      "source": [
        "<a href=\"https://colab.research.google.com/github/istar0me/ai107b/blob/master/AI_Project.ipynb\" target=\"_parent\"><img src=\"https://colab.research.google.com/assets/colab-badge.svg\" alt=\"Open In Colab\"/></a>"
      ]
    },
    {
      "cell_type": "markdown",
      "metadata": {
        "id": "7mGNSRIXmG82",
        "colab_type": "text"
      },
      "source": [
        "# 前言\n",
        "* 以下有四筆資料，不清楚它們之間有什麼關聯，試問當輸入為 38 時輸出為何？\n",
        "* 如果你的回答是 100.4，那恭喜你回答正確，但是答案是怎麼求出來的呢？\n",
        "\n",
        "| -    | 資料1 | 資料2 | 資料3 | 資料4 | 問題  |\n",
        "| ---- | ----- | ----- | ----- | ----- | ----- |\n",
        "| 輸入 | 0     | 8     | 15    | 22    | 38    |\n",
        "| 輸出 | 32    | 46.4  | 59    | 71.6  | **?** |\n",
        "\n",
        "* 聰明的你或許有看出它是溫度轉換的例子。既然如此，可以透過以下的小程式來解題："
      ]
    },
    {
      "cell_type": "code",
      "metadata": {
        "id": "UWfg5z97m6Jk",
        "colab_type": "code",
        "colab": {
          "base_uri": "https://localhost:8080/",
          "height": 34
        },
        "outputId": "91785df2-3580-43f2-e4ce-7af9eefd6cd3"
      },
      "source": [
        "def c2f(celsius):\n",
        "  return 1.8 * celsius + 32\n",
        "\n",
        "print(c2f(38))"
      ],
      "execution_count": 17,
      "outputs": [
        {
          "output_type": "stream",
          "text": [
            "100.4\n"
          ],
          "name": "stdout"
        }
      ]
    },
    {
      "cell_type": "markdown",
      "metadata": {
        "id": "-6a2WRndqOr5",
        "colab_type": "text"
      },
      "source": [
        "* 看起來很簡單對吧？但這是建立在你知道公式（$F = 1.8 \\times C + 32$）的基礎上\n",
        "* 如果你今天不知道他們之間的關聯性，該怎麼得知呢？\n",
        "* 沒錯，這時候就要派機器學習（Machine Learning）上場了，它會根據輸入與輸出找出相對應的演算法（公式）"
      ]
    },
    {
      "cell_type": "markdown",
      "metadata": {
        "id": "0Tb9wAYunT2A",
        "colab_type": "text"
      },
      "source": [
        ""
      ]
    },
    {
      "cell_type": "markdown",
      "metadata": {
        "id": "QoVjcMW6riPG",
        "colab_type": "text"
      },
      "source": [
        "# 期末專案：透過 AI 找出溫度轉換的公式\n",
        "* 程式語言：Python 3\n",
        "* 所需模組：TensorFlow、Numpy、Keras、matplotlib\n",
        "* 搭建環境：Google Colab（基於 Jupyter Notebook 的雲端環境）\n",
        "* 輸　　入：攝氏溫度的資料\n",
        "* 輸　　出：華氏溫度的資料\n",
        "* 預期結果：找出攝氏轉華氏溫度的公式"
      ]
    },
    {
      "cell_type": "markdown",
      "metadata": {
        "id": "n-EiaocI0ioU",
        "colab_type": "text"
      },
      "source": [
        "# 匯入模組\n",
        "* `tensorflow`：機器學習的框架\n",
        "* `numpy`：因為有更強大的科學計算功能，因此用來替代 Python 內建的 List"
      ]
    },
    {
      "cell_type": "code",
      "metadata": {
        "id": "LtTxfDH40ZDo",
        "colab_type": "code",
        "colab": {}
      },
      "source": [
        "import tensorflow as tf\n",
        "tf.logging.set_verbosity(tf.logging.ERROR) # 若有錯誤訊息則列印出來\n",
        "\n",
        "import numpy as np"
      ],
      "execution_count": 0,
      "outputs": []
    },
    {
      "cell_type": "markdown",
      "metadata": {
        "id": "DZM08Iho14ZN",
        "colab_type": "text"
      },
      "source": [
        "# 提供要訓練的資料\n",
        "* 監督式學習是找出輸入與輸出中間的演算法，因此須先提供數據\n",
        "* 這邊 `celsius_q` 的 `q` 代表 question，`fahtrenheit_a` 的 `a` 代表 answer，皆採用 `float` 的型態"
      ]
    },
    {
      "cell_type": "code",
      "metadata": {
        "id": "7EU0XA3k18LO",
        "colab_type": "code",
        "colab": {
          "base_uri": "https://localhost:8080/",
          "height": 136
        },
        "outputId": "70859726-0af6-4910-c6c4-1e1514e98175"
      },
      "source": [
        "celsius_q    = np.array([-40, -10,  0,  8, 15, 22,  38],  dtype=float)\n",
        "fahrenheit_a = np.array([-40,  14, 32, 46, 59, 72, 100],  dtype=float)\n",
        "\n",
        "for i, c in enumerate(celsius_q): # i:index, c:celsius\n",
        "  print(\"{} 攝氏度 = {} 華氏度\".format(c, fahrenheit_a[i]))"
      ],
      "execution_count": 19,
      "outputs": [
        {
          "output_type": "stream",
          "text": [
            "-40.0 攝氏度 = -40.0 華氏度\n",
            "-10.0 攝氏度 = 14.0 華氏度\n",
            "0.0 攝氏度 = 32.0 華氏度\n",
            "8.0 攝氏度 = 46.0 華氏度\n",
            "15.0 攝氏度 = 59.0 華氏度\n",
            "22.0 攝氏度 = 72.0 華氏度\n",
            "38.0 攝氏度 = 100.0 華氏度\n"
          ],
          "name": "stdout"
        }
      ]
    },
    {
      "cell_type": "markdown",
      "metadata": {
        "id": "CxGuETbns8F4",
        "colab_type": "text"
      },
      "source": [
        "### 機器學習術語\n",
        "* Feature（特徵）：模型的輸入，在此為攝氏度\n",
        "* Label（標籤）：模型所預測的輸出，在此為華氏度\n",
        "* Example（範例）：一組訓練時用的輸入與輸出，如 `(0,32)`\n"
      ]
    },
    {
      "cell_type": "markdown",
      "metadata": {
        "id": "q3LHRggi3wfJ",
        "colab_type": "text"
      },
      "source": [
        "# 開始建立模型"
      ]
    },
    {
      "cell_type": "markdown",
      "metadata": {
        "id": "sMYoo6ka_Old",
        "colab_type": "text"
      },
      "source": [
        "* 因為溫度轉換的問題很簡單，只需要用到一層與一個神經元\n",
        "  * `units=1`：此層的神經元數量為 1\n",
        "  * `input_shape=[1]`：此層的輸入為 1 維陣列\n",
        "* Dense Layer = Fully Connected Layer（全連接層）"
      ]
    },
    {
      "cell_type": "code",
      "metadata": {
        "id": "HuWNBNsH3y64",
        "colab_type": "code",
        "colab": {}
      },
      "source": [
        "l0 = tf.keras.layers.Dense(units=1, input_shape=[1])  "
      ],
      "execution_count": 0,
      "outputs": []
    },
    {
      "cell_type": "markdown",
      "metadata": {
        "id": "xvMv9df8SsCg",
        "colab_type": "text"
      },
      "source": [
        "## 組裝層到模型中\n",
        "* 將各層集合至一個 List 中，因為只有一層，因此這邊使用 `[l0]`\n",
        "* 註：若有多層時，會根據前後順序來進行"
      ]
    },
    {
      "cell_type": "code",
      "metadata": {
        "id": "EnvOLkBaeUg5",
        "colab_type": "code",
        "colab": {}
      },
      "source": [
        "model = tf.keras.Sequential([l0])"
      ],
      "execution_count": 0,
      "outputs": []
    },
    {
      "cell_type": "markdown",
      "metadata": {
        "id": "lZGwcaArkYKs",
        "colab_type": "text"
      },
      "source": [
        "## 編譯模型\n",
        "* 在訓練模型前，須先編譯好模型\n",
        "  * loss function（損失函數）：用來算出預測值與正確結果的差距，在此採用 `MSE`（均方誤差）方式\n",
        "  * optimizer（優化器）：盡可能地減少 loss（損失），以更貼近正確的結果，在此採用最常見的 `Adam` 優化器\n",
        "* 關於 `Adam` 優化器：[Gentle Introduction to the Adam Optimization Algorithm for Deep Learning](https://machinelearningmastery.com/adam-optimization-algorithm-for-deep-learning/)\n",
        "* 不同優化器的差異：[[機器學習ML NOTE]SGD, Momentum, AdaGrad, Adam Optimizer](https://medium.com/%E9%9B%9E%E9%9B%9E%E8%88%87%E5%85%94%E5%85%94%E7%9A%84%E5%B7%A5%E7%A8%8B%E4%B8%96%E7%95%8C/%E6%A9%9F%E5%99%A8%E5%AD%B8%E7%BF%92ml-note-sgd-momentum-adagrad-adam-optimizer-f20568c968db)"
      ]
    },
    {
      "cell_type": "code",
      "metadata": {
        "id": "47OpE5h8kXtN",
        "colab_type": "code",
        "colab": {}
      },
      "source": [
        "model.compile(loss='mean_squared_error',\n",
        "              optimizer=tf.keras.optimizers.Adam(0.1))"
      ],
      "execution_count": 0,
      "outputs": []
    },
    {
      "cell_type": "markdown",
      "metadata": {
        "id": "678TUmQkkxcc",
        "colab_type": "text"
      },
      "source": [
        "## 訓練模型\n",
        "* 透過 `.fit` 方法來訓練模型\n",
        "* 分別代入攝氏度、華氏度、訓練幾世與是否列印詳細輸出\n",
        "* epochs（世）代表一組範例要訓練幾世，像上面共有 7 組範例，因此總共訓練 500 * 7 = 3500 次"
      ]
    },
    {
      "cell_type": "code",
      "metadata": {
        "id": "YhyzevRNkzhC",
        "colab_type": "code",
        "colab": {
          "base_uri": "https://localhost:8080/",
          "height": 34
        },
        "outputId": "9e5717f7-54e8-4f8e-a0d0-288317ffd045"
      },
      "source": [
        "history = model.fit(celsius_q, fahrenheit_a, epochs=500, verbose=False)\n",
        "print(\"模型訓練完成\")"
      ],
      "execution_count": 23,
      "outputs": [
        {
          "output_type": "stream",
          "text": [
            "模型訓練完成\n"
          ],
          "name": "stdout"
        }
      ]
    },
    {
      "cell_type": "markdown",
      "metadata": {
        "id": "aq_wBPrdk48c",
        "colab_type": "text"
      },
      "source": [
        "# 顯示訓練的統計資料\n",
        "* 我們透過 `matplotlib` 模組來視覺化資料，x 軸是 Epoch Number（世代數量）、y 軸為Loss Magnitude（損失大小，越小越好）"
      ]
    },
    {
      "cell_type": "code",
      "metadata": {
        "id": "f9vKk_K_k9-P",
        "colab_type": "code",
        "colab": {
          "base_uri": "https://localhost:8080/",
          "height": 300
        },
        "outputId": "7e74144f-7b6b-4966-835e-baa5bd06b5cb"
      },
      "source": [
        "import matplotlib.pyplot as plt\n",
        "plt.xlabel('Epoch Number')\n",
        "plt.ylabel(\"Loss Magnitude\")\n",
        "plt.plot(history.history['loss'])"
      ],
      "execution_count": 24,
      "outputs": [
        {
          "output_type": "execute_result",
          "data": {
            "text/plain": [
              "[<matplotlib.lines.Line2D at 0x7f9fb03558d0>]"
            ]
          },
          "metadata": {
            "tags": []
          },
          "execution_count": 24
        },
        {
          "output_type": "display_data",
          "data": {
            "image/png": "[encoded data removed]",
            "text/plain": [
              "<Figure size 432x288 with 1 Axes>"
            ]
          },
          "metadata": {
            "tags": []
          }
        }
      ]
    },
    {
      "cell_type": "markdown",
      "metadata": {
        "id": "qztKyRVv27LP",
        "colab_type": "text"
      },
      "source": [
        "# 使用模型來預測\n",
        "* 現在可以使用已經建立好的模型來預測，只需要代入攝氏溫度（在此設定為 `100.0`）"
      ]
    },
    {
      "cell_type": "code",
      "metadata": {
        "id": "xP9nO4Z6xW1h",
        "colab_type": "code",
        "colab": {
          "base_uri": "https://localhost:8080/",
          "height": 34
        },
        "outputId": "119498fa-bb0f-4d41-a30a-7ee1c877540c"
      },
      "source": [
        "print(model.predict([100.0]))"
      ],
      "execution_count": 25,
      "outputs": [
        {
          "output_type": "stream",
          "text": [
            "[[211.33719]]\n"
          ],
          "name": "stdout"
        }
      ]
    },
    {
      "cell_type": "markdown",
      "metadata": {
        "id": "ZUxyxbQp3K1-",
        "colab_type": "text"
      },
      "source": [
        "* 正確答案為 $100 \\times 1.8 + 32 = 212$，可以看出此模型的表現非常優異"
      ]
    },
    {
      "cell_type": "markdown",
      "metadata": {
        "id": "lSf8ypKE38Ws",
        "colab_type": "text"
      },
      "source": [
        "# 查看此層的權重與偏差\n",
        "* 在經過 500 世的計算後，預測的權重（weight）為 1.8206435，可看出與實際的結果 1.8 相當接近\n",
        "* 至於偏差（bias）預測為 29.27282，雖誤差較大，但也跟實際結果 32 很接近"
      ]
    },
    {
      "cell_type": "code",
      "metadata": {
        "id": "wRIxrXnHxZJX",
        "colab_type": "code",
        "colab": {
          "base_uri": "https://localhost:8080/",
          "height": 34
        },
        "outputId": "340036f0-a6a3-44a3-dbc4-3d734b340b92"
      },
      "source": [
        "print(\"此層的變數： {}\".format(l0.get_weights()))"
      ],
      "execution_count": 27,
      "outputs": [
        {
          "output_type": "stream",
          "text": [
            "此層的變數： [array([[1.8206435]], dtype=float32), array([29.27282], dtype=float32)]\n"
          ],
          "name": "stdout"
        }
      ]
    }
  ]
}